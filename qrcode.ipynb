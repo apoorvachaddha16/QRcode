{
 "cells": [
  {
   "cell_type": "code",
   "execution_count": 1,
   "id": "ef33fad8",
   "metadata": {},
   "outputs": [],
   "source": [
    "import qrcode"
   ]
  },
  {
   "cell_type": "code",
   "execution_count": 2,
   "id": "0bdb1a09",
   "metadata": {},
   "outputs": [],
   "source": [
    "features = qrcode.QRCode(\n",
    "    version=1,\n",
    "    box_size=35,\n",
    "    border=5\n",
    ")"
   ]
  },
  {
   "cell_type": "code",
   "execution_count": 3,
   "id": "acf2b7a7",
   "metadata": {},
   "outputs": [],
   "source": [
    "data=(\"https://www.codechef.com/users/appy01\")"
   ]
  },
  {
   "cell_type": "code",
   "execution_count": 4,
   "id": "05bd095b",
   "metadata": {},
   "outputs": [],
   "source": [
    "features.add_data(data)"
   ]
  },
  {
   "cell_type": "code",
   "execution_count": 5,
   "id": "aeaeac3f",
   "metadata": {},
   "outputs": [],
   "source": [
    "features.make(fit=True)"
   ]
  },
  {
   "cell_type": "code",
   "execution_count": 6,
   "id": "961e286e",
   "metadata": {},
   "outputs": [],
   "source": [
    "generate_qr = features.make_image(fill_color=\"black\",back_color=\"white\")\n",
    "generate_qr.save(\"image.png\")"
   ]
  },
  {
   "cell_type": "code",
   "execution_count": null,
   "id": "0f02489a",
   "metadata": {},
   "outputs": [],
   "source": []
  }
 ],
 "metadata": {
  "kernelspec": {
   "display_name": "Python 3",
   "language": "python",
   "name": "python3"
  },
  "language_info": {
   "codemirror_mode": {
    "name": "ipython",
    "version": 3
   },
   "file_extension": ".py",
   "mimetype": "text/x-python",
   "name": "python",
   "nbconvert_exporter": "python",
   "pygments_lexer": "ipython3",
   "version": "3.9.9"
  }
 },
 "nbformat": 4,
 "nbformat_minor": 5
}
